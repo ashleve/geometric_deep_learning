{
 "cells": [
  {
   "cell_type": "code",
   "execution_count": 1,
   "metadata": {
    "scrolled": true
   },
   "outputs": [],
   "source": [
    "import torch_geometric.transforms as T\n",
    "from torch_geometric.nn import graclus, global_max_pool, global_mean_pool\n",
    "import torch\n",
    "import torch.nn as nn\n",
    "import torch.nn.functional as F\n",
    "from torch_geometric.nn import GCNConv, ChebConv, SAGEConv\n",
    "import matplotlib.pyplot as plt\n",
    "import numpy as np\n",
    "import utils\n",
    "from torch_geometric.data import Data, Batch, DataLoader\n",
    "from IPython.display import display, clear_output\n",
    "import time"
   ]
  },
  {
   "cell_type": "code",
   "execution_count": 2,
   "metadata": {
    "scrolled": true
   },
   "outputs": [
    {
     "name": "stdout",
     "output_type": "stream",
     "text": [
      "60000\n",
      "10000\n",
      "Data(edge_index=[2, 472], label=5, pos=[77, 2], x=[77, 3])\n",
      "Data(edge_index=[2, 488], label=7, pos=[81, 2], x=[81, 3])\n"
     ]
    }
   ],
   "source": [
    "train_data = torch.load(\"data/MNISTSuperpixels_train_data.pt\")\n",
    "test_data = torch.load(\"data/MNISTSuperpixels_test_data.pt\")\n",
    "\n",
    "print(len(train_data))\n",
    "print(len(test_data))\n",
    "\n",
    "print(train_data[0])\n",
    "print(test_data[0])"
   ]
  },
  {
   "cell_type": "code",
   "execution_count": 3,
   "metadata": {
    "scrolled": true
   },
   "outputs": [],
   "source": [
    "train_loader = DataLoader(train_data, batch_size=64, shuffle=True)\n",
    "test_loader = DataLoader(test_data, batch_size=64)"
   ]
  },
  {
   "cell_type": "code",
   "execution_count": 4,
   "metadata": {
    "scrolled": true
   },
   "outputs": [],
   "source": [
    "rotation_0 = T.RandomRotate(degrees=180, axis=0)\n",
    "rotation_1 = T.RandomRotate(degrees=180, axis=1)\n",
    "rotation_2 = T.RandomRotate(degrees=180, axis=2)"
   ]
  },
  {
   "cell_type": "code",
   "execution_count": 5,
   "metadata": {
    "scrolled": true
   },
   "outputs": [],
   "source": [
    "NUM_NODE_FEATURES = 3\n",
    "NUM_CLASSES = 10"
   ]
  },
  {
   "cell_type": "code",
   "execution_count": 6,
   "metadata": {
    "pycharm": {
     "name": "#%%\n"
    },
    "scrolled": true
   },
   "outputs": [],
   "source": [
    "class Net(torch.nn.Module):\n",
    "    def __init__(self):\n",
    "        super(Net, self).__init__()\n",
    "        self.conv1 = GCNConv(NUM_NODE_FEATURES, 24)\n",
    "        self.conv2 = GCNConv(24, 32)\n",
    "        self.conv3 = GCNConv(32, 16)\n",
    "        self.linear = nn.Linear(16, NUM_CLASSES)\n",
    "        \n",
    "# pool of non-square window\n",
    "# m = nn.AvgPool2d((3, 2), stride=(2, 1))\n",
    "\n",
    "    def forward(self, data):\n",
    "        x, edge_index = data.x, data.edge_index\n",
    "\n",
    "        x = self.conv1(x, edge_index)\n",
    "        x = F.relu(x)\n",
    "        x = F.dropout(x, p=0.2, training=self.training)\n",
    "        x = self.conv2(x, edge_index)\n",
    "        x = F.relu(x)\n",
    "        x = F.dropout(x, p=0.2, training=self.training)\n",
    "        x = self.conv3(x, edge_index)\n",
    "        \n",
    "        x = global_mean_pool(x, data.batch)\n",
    "#         x = global_max_pool(x, data.batch)\n",
    "        \n",
    "        x = self.linear(x)\n",
    "\n",
    "        return F.log_softmax(x)"
   ]
  },
  {
   "cell_type": "code",
   "execution_count": 7,
   "metadata": {
    "pycharm": {
     "name": "#%%\n"
    },
    "scrolled": true
   },
   "outputs": [
    {
     "name": "stdout",
     "output_type": "stream",
     "text": [
      "cuda\n"
     ]
    }
   ],
   "source": [
    "device = torch.device('cuda' if torch.cuda.is_available() else 'cpu')\n",
    "print(device)"
   ]
  },
  {
   "cell_type": "code",
   "execution_count": 8,
   "metadata": {
    "pycharm": {
     "name": "#%%\n"
    },
    "scrolled": true
   },
   "outputs": [],
   "source": [
    "model = Net()\n",
    "model = model.to(device)\n",
    "optimizer = torch.optim.Adam(model.parameters(), lr=0.01)"
   ]
  },
  {
   "cell_type": "code",
   "execution_count": 9,
   "metadata": {
    "pycharm": {
     "name": "#%%\n"
    },
    "scrolled": true
   },
   "outputs": [],
   "source": [
    "def evaluate():\n",
    "    model.eval()\n",
    "    acc = 0\n",
    "    loss = 0\n",
    "    for data in test_loader:\n",
    "        \n",
    "        data = data.to(device)\n",
    "        out = model(data) \n",
    "        _, predicts = out.max(dim=1)\n",
    "        target = torch.tensor(data.label).to(device)\n",
    "        loss += F.nll_loss(out, target).item()\n",
    "        correct = predicts.eq(target).sum().item()\n",
    "        acc += correct\n",
    "        \n",
    "    acc =  acc * 100 / len(test_data)\n",
    "    loss /= len(test_data)\n",
    "    return acc, loss"
   ]
  },
  {
   "cell_type": "code",
   "execution_count": 10,
   "metadata": {
    "scrolled": true
   },
   "outputs": [
    {
     "name": "stderr",
     "output_type": "stream",
     "text": [
      "C:\\Users\\Ukasz\\Anaconda3\\envs\\gdl\\lib\\site-packages\\ipykernel_launcher.py:29: UserWarning: Implicit dimension choice for log_softmax has been deprecated. Change the call to include dim=X as an argument.\n",
      "C:\\Users\\Ukasz\\Anaconda3\\envs\\gdl\\lib\\site-packages\\ipykernel_launcher.py:10: UserWarning: To copy construct from a tensor, it is recommended to use sourceTensor.clone().detach() or sourceTensor.clone().detach().requires_grad_(True), rather than torch.tensor(sourceTensor).\n",
      "  # Remove the CWD from sys.path while we load stuff.\n"
     ]
    },
    {
     "name": "stdout",
     "output_type": "stream",
     "text": [
      "10.28\n",
      "0.1253612497806549\n"
     ]
    }
   ],
   "source": [
    "acc, loss = evaluate()\n",
    "print(acc)\n",
    "print(loss)"
   ]
  },
  {
   "cell_type": "code",
   "execution_count": 11,
   "metadata": {
    "pycharm": {
     "name": "#%%\n"
    },
    "scrolled": false
   },
   "outputs": [
    {
     "name": "stderr",
     "output_type": "stream",
     "text": [
      "C:\\Users\\Ukasz\\Anaconda3\\envs\\gdl\\lib\\site-packages\\ipykernel_launcher.py:29: UserWarning: Implicit dimension choice for log_softmax has been deprecated. Change the call to include dim=X as an argument.\n",
      "C:\\Users\\Ukasz\\Anaconda3\\envs\\gdl\\lib\\site-packages\\ipykernel_launcher.py:14: UserWarning: To copy construct from a tensor, it is recommended to use sourceTensor.clone().detach() or sourceTensor.clone().detach().requires_grad_(True), rather than torch.tensor(sourceTensor).\n",
      "  \n",
      "C:\\Users\\Ukasz\\Anaconda3\\envs\\gdl\\lib\\site-packages\\ipykernel_launcher.py:10: UserWarning: To copy construct from a tensor, it is recommended to use sourceTensor.clone().detach() or sourceTensor.clone().detach().requires_grad_(True), rather than torch.tensor(sourceTensor).\n",
      "  # Remove the CWD from sys.path while we load stuff.\n"
     ]
    },
    {
     "name": "stdout",
     "output_type": "stream",
     "text": [
      "Ep: 0, Train loss: 0.0282, Test loss: 0.0206, Acc: 55.86%\n",
      "Ep: 1, Train loss: 0.0212, Test loss: 0.0177, Acc: 61.54%\n",
      "Ep: 2, Train loss: 0.0189, Test loss: 0.0150, Acc: 68.92%\n",
      "Ep: 3, Train loss: 0.0174, Test loss: 0.0145, Acc: 69.19%\n",
      "Ep: 4, Train loss: 0.0163, Test loss: 0.0137, Acc: 71.03%\n",
      "Ep: 5, Train loss: 0.0157, Test loss: 0.0140, Acc: 71.11%\n",
      "Ep: 6, Train loss: 0.0153, Test loss: 0.0130, Acc: 73.31%\n",
      "Ep: 7, Train loss: 0.0151, Test loss: 0.0137, Acc: 70.79%\n",
      "Ep: 8, Train loss: 0.0150, Test loss: 0.0119, Acc: 76.17%\n",
      "Ep: 9, Train loss: 0.0148, Test loss: 0.0130, Acc: 72.66%\n",
      "Ep: 10, Train loss: 0.0147, Test loss: 0.0125, Acc: 74.20%\n",
      "Ep: 11, Train loss: 0.0147, Test loss: 0.0123, Acc: 74.69%\n",
      "Ep: 12, Train loss: 0.0144, Test loss: 0.0118, Acc: 75.92%\n",
      "Ep: 13, Train loss: 0.0144, Test loss: 0.0112, Acc: 76.76%\n",
      "Ep: 14, Train loss: 0.0144, Test loss: 0.0127, Acc: 73.29%\n",
      "Ep: 15, Train loss: 0.0144, Test loss: 0.0124, Acc: 73.50%\n",
      "Ep: 16, Train loss: 0.0142, Test loss: 0.0118, Acc: 76.29%\n",
      "Ep: 17, Train loss: 0.0141, Test loss: 0.0115, Acc: 76.11%\n",
      "Ep: 18, Train loss: 0.0141, Test loss: 0.0116, Acc: 76.10%\n",
      "Ep: 19, Train loss: 0.0140, Test loss: 0.0121, Acc: 75.34%\n",
      "Ep: 20, Train loss: 0.0141, Test loss: 0.0110, Acc: 77.54%\n",
      "Ep: 21, Train loss: 0.0141, Test loss: 0.0118, Acc: 76.12%\n",
      "Ep: 22, Train loss: 0.0140, Test loss: 0.0125, Acc: 73.85%\n",
      "Ep: 23, Train loss: 0.0140, Test loss: 0.0112, Acc: 77.24%\n",
      "Ep: 24, Train loss: 0.0140, Test loss: 0.0116, Acc: 75.53%\n",
      "Ep: 25, Train loss: 0.0139, Test loss: 0.0110, Acc: 77.78%\n",
      "Ep: 26, Train loss: 0.0139, Test loss: 0.0116, Acc: 75.98%\n",
      "Ep: 27, Train loss: 0.0139, Test loss: 0.0109, Acc: 77.94%\n",
      "Ep: 28, Train loss: 0.0139, Test loss: 0.0112, Acc: 77.09%\n",
      "Ep: 29, Train loss: 0.0139, Test loss: 0.0108, Acc: 77.18%\n",
      "Ep: 30, Train loss: 0.0138, Test loss: 0.0115, Acc: 75.92%\n",
      "Ep: 31, Train loss: 0.0138, Test loss: 0.0110, Acc: 77.58%\n",
      "Ep: 32, Train loss: 0.0138, Test loss: 0.0119, Acc: 74.57%\n",
      "Ep: 33, Train loss: 0.0139, Test loss: 0.0110, Acc: 77.60%\n",
      "Ep: 34, Train loss: 0.0137, Test loss: 0.0113, Acc: 76.57%\n",
      "Ep: 35, Train loss: 0.0137, Test loss: 0.0113, Acc: 76.85%\n",
      "Ep: 36, Train loss: 0.0137, Test loss: 0.0111, Acc: 77.71%\n",
      "Ep: 37, Train loss: 0.0136, Test loss: 0.0109, Acc: 77.78%\n",
      "Ep: 38, Train loss: 0.0139, Test loss: 0.0121, Acc: 74.32%\n",
      "Ep: 39, Train loss: 0.0138, Test loss: 0.0113, Acc: 76.73%\n",
      "Ep: 40, Train loss: 0.0137, Test loss: 0.0111, Acc: 77.38%\n",
      "Ep: 41, Train loss: 0.0136, Test loss: 0.0115, Acc: 76.09%\n",
      "Ep: 42, Train loss: 0.0136, Test loss: 0.0110, Acc: 78.30%\n",
      "Ep: 43, Train loss: 0.0136, Test loss: 0.0108, Acc: 77.96%\n",
      "Ep: 44, Train loss: 0.0135, Test loss: 0.0106, Acc: 78.56%\n",
      "Ep: 45, Train loss: 0.0136, Test loss: 0.0112, Acc: 77.59%\n",
      "Ep: 46, Train loss: 0.0135, Test loss: 0.0110, Acc: 77.56%\n",
      "Ep: 47, Train loss: 0.0137, Test loss: 0.0113, Acc: 76.05%\n",
      "Ep: 48, Train loss: 0.0136, Test loss: 0.0107, Acc: 77.80%\n",
      "Ep: 49, Train loss: 0.0135, Test loss: 0.0109, Acc: 77.94%\n",
      "Ep: 50, Train loss: 0.0135, Test loss: 0.0115, Acc: 76.14%\n",
      "Ep: 51, Train loss: 0.0135, Test loss: 0.0110, Acc: 77.89%\n",
      "Ep: 52, Train loss: 0.0135, Test loss: 0.0106, Acc: 78.80%\n",
      "Ep: 53, Train loss: 0.0138, Test loss: 0.0112, Acc: 76.64%\n",
      "Ep: 54, Train loss: 0.0136, Test loss: 0.0110, Acc: 77.73%\n",
      "Ep: 55, Train loss: 0.0136, Test loss: 0.0107, Acc: 78.35%\n",
      "Ep: 56, Train loss: 0.0135, Test loss: 0.0111, Acc: 77.03%\n",
      "Ep: 57, Train loss: 0.0135, Test loss: 0.0104, Acc: 79.44%\n",
      "Ep: 58, Train loss: 0.0135, Test loss: 0.0108, Acc: 78.28%\n",
      "Ep: 59, Train loss: 0.0134, Test loss: 0.0107, Acc: 78.04%\n",
      "Ep: 60, Train loss: 0.0136, Test loss: 0.0105, Acc: 78.36%\n",
      "Ep: 61, Train loss: 0.0135, Test loss: 0.0106, Acc: 78.54%\n",
      "Ep: 62, Train loss: 0.0135, Test loss: 0.0114, Acc: 76.55%\n",
      "Ep: 63, Train loss: 0.0134, Test loss: 0.0104, Acc: 79.27%\n",
      "Ep: 64, Train loss: 0.0135, Test loss: 0.0107, Acc: 77.79%\n",
      "Ep: 65, Train loss: 0.0134, Test loss: 0.0106, Acc: 78.09%\n",
      "Ep: 66, Train loss: 0.0133, Test loss: 0.0114, Acc: 77.08%\n",
      "Ep: 67, Train loss: 0.0134, Test loss: 0.0103, Acc: 79.45%\n",
      "Ep: 68, Train loss: 0.0134, Test loss: 0.0113, Acc: 77.36%\n",
      "Ep: 69, Train loss: 0.0135, Test loss: 0.0117, Acc: 76.20%\n",
      "Ep: 70, Train loss: 0.0135, Test loss: 0.0107, Acc: 77.44%\n",
      "Ep: 71, Train loss: 0.0133, Test loss: 0.0105, Acc: 78.87%\n",
      "Ep: 72, Train loss: 0.0134, Test loss: 0.0107, Acc: 78.26%\n",
      "Ep: 73, Train loss: 0.0133, Test loss: 0.0108, Acc: 78.31%\n",
      "Ep: 74, Train loss: 0.0133, Test loss: 0.0108, Acc: 77.80%\n",
      "Ep: 75, Train loss: 0.0132, Test loss: 0.0102, Acc: 79.47%\n",
      "Ep: 76, Train loss: 0.0134, Test loss: 0.0106, Acc: 77.97%\n",
      "Ep: 77, Train loss: 0.0134, Test loss: 0.0110, Acc: 77.39%\n",
      "Ep: 78, Train loss: 0.0132, Test loss: 0.0109, Acc: 77.17%\n",
      "Ep: 79, Train loss: 0.0133, Test loss: 0.0109, Acc: 77.65%\n",
      "Ep: 80, Train loss: 0.0133, Test loss: 0.0108, Acc: 77.55%\n",
      "Ep: 81, Train loss: 0.0133, Test loss: 0.0102, Acc: 79.29%\n",
      "Ep: 82, Train loss: 0.0133, Test loss: 0.0105, Acc: 78.91%\n",
      "Ep: 83, Train loss: 0.0133, Test loss: 0.0104, Acc: 78.93%\n",
      "Ep: 84, Train loss: 0.0132, Test loss: 0.0105, Acc: 78.24%\n",
      "Ep: 85, Train loss: 0.0134, Test loss: 0.0104, Acc: 79.08%\n",
      "Ep: 86, Train loss: 0.0134, Test loss: 0.0103, Acc: 79.39%\n",
      "Ep: 87, Train loss: 0.0132, Test loss: 0.0103, Acc: 79.40%\n",
      "Ep: 88, Train loss: 0.0132, Test loss: 0.0106, Acc: 78.27%\n",
      "Ep: 89, Train loss: 0.0133, Test loss: 0.0113, Acc: 77.50%\n",
      "Ep: 90, Train loss: 0.0133, Test loss: 0.0105, Acc: 79.01%\n",
      "Ep: 91, Train loss: 0.0132, Test loss: 0.0105, Acc: 78.61%\n",
      "Ep: 92, Train loss: 0.0133, Test loss: 0.0101, Acc: 80.01%\n",
      "Ep: 93, Train loss: 0.0133, Test loss: 0.0102, Acc: 79.14%\n",
      "Ep: 94, Train loss: 0.0133, Test loss: 0.0104, Acc: 78.77%\n",
      "Ep: 95, Train loss: 0.0133, Test loss: 0.0104, Acc: 78.79%\n",
      "Ep: 96, Train loss: 0.0132, Test loss: 0.0111, Acc: 77.54%\n",
      "Ep: 97, Train loss: 0.0133, Test loss: 0.0108, Acc: 78.30%\n",
      "Ep: 98, Train loss: 0.0132, Test loss: 0.0103, Acc: 79.23%\n",
      "Ep: 99, Train loss: 0.0132, Test loss: 0.0103, Acc: 79.34%\n"
     ]
    }
   ],
   "source": [
    "train_loss_hist = []\n",
    "test_loss_hist = []\n",
    "acc_hist = []\n",
    "\n",
    "for i in range(100):\n",
    "    \n",
    "    model.train()\n",
    "    total_loss = 0\n",
    "    \n",
    "    for data in train_loader:     \n",
    "        \n",
    "        data = data.to(device)\n",
    "        out = model(data)\n",
    "        target = torch.tensor(data.label).to(device)\n",
    "    \n",
    "        optimizer.zero_grad()\n",
    "        loss = F.nll_loss(out, target)\n",
    "        loss.backward()\n",
    "        optimizer.step()\n",
    "        \n",
    "        total_loss += loss.item()\n",
    "    \n",
    "    train_loss = total_loss / len(train_data) \n",
    "    acc, test_loss = evaluate()\n",
    "    \n",
    "    train_loss_hist.append(train_loss)\n",
    "    test_loss_hist.append(test_loss)\n",
    "    acc_hist.append(acc)\n",
    "    \n",
    "    print(f\"Ep: {i}, Train loss: {train_loss:.4f}, Test loss: {test_loss:.4f}, Acc: {acc:.2f}%\")"
   ]
  },
  {
   "cell_type": "code",
   "execution_count": 12,
   "metadata": {
    "scrolled": true
   },
   "outputs": [
    {
     "data": {
      "image/png": "[encoded data removed]",
      "text/plain": [
       "<Figure size 432x288 with 1 Axes>"
      ]
     },
     "metadata": {
      "needs_background": "light"
     },
     "output_type": "display_data"
    }
   ],
   "source": [
    "plt.plot(train_loss_hist)\n",
    "plt.show()"
   ]
  },
  {
   "cell_type": "code",
   "execution_count": 13,
   "metadata": {
    "scrolled": true
   },
   "outputs": [
    {
     "data": {
      "image/png": "[encoded data removed]",
      "text/plain": [
       "<Figure size 432x288 with 1 Axes>"
      ]
     },
     "metadata": {
      "needs_background": "light"
     },
     "output_type": "display_data"
    }
   ],
   "source": [
    "plt.plot(test_loss_hist)\n",
    "plt.show()"
   ]
  },
  {
   "cell_type": "code",
   "execution_count": 14,
   "metadata": {
    "scrolled": true
   },
   "outputs": [
    {
     "data": {
      "image/png": "[encoded data removed]",
      "text/plain": [
       "<Figure size 432x288 with 1 Axes>"
      ]
     },
     "metadata": {
      "needs_background": "light"
     },
     "output_type": "display_data"
    }
   ],
   "source": [
    "plt.plot(acc_hist)\n",
    "plt.show()"
   ]
  },
  {
   "cell_type": "code",
   "execution_count": null,
   "metadata": {
    "scrolled": true
   },
   "outputs": [],
   "source": []
  }
 ],
 "metadata": {
  "kernelspec": {
   "display_name": "Python 3",
   "language": "python",
   "name": "python3"
  },
  "language_info": {
   "codemirror_mode": {
    "name": "ipython",
    "version": 3
   },
   "file_extension": ".py",
   "mimetype": "text/x-python",
   "name": "python",
   "nbconvert_exporter": "python",
   "pygments_lexer": "ipython3",
   "version": "3.7.7"
  },
  "pycharm": {
   "stem_cell": {
    "cell_type": "raw",
    "metadata": {
     "collapsed": false
    },
    "source": []
   }
  }
 },
 "nbformat": 4,
 "nbformat_minor": 1
}
