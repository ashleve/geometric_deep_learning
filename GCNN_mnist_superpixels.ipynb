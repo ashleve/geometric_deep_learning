{
 "cells": [
  {
   "cell_type": "code",
   "execution_count": 1,
   "metadata": {},
   "outputs": [],
   "source": [
    "import torch_geometric.transforms as T\n",
    "from torch_geometric.nn import graclus, max_pool, global_mean_pool\n",
    "import torch\n",
    "import torch.nn as nn\n",
    "import torch.nn.functional as F\n",
    "from torch_geometric.nn import GCNConv, ChebConv, SAGEConv\n",
    "import matplotlib.pyplot as plt\n",
    "import numpy as np\n",
    "import utils\n",
    "from torch_geometric.data import Data, Batch, DataLoader\n",
    "from IPython.display import display, clear_output\n",
    "import time"
   ]
  },
  {
   "cell_type": "code",
   "execution_count": 2,
   "metadata": {},
   "outputs": [
    {
     "name": "stdout",
     "output_type": "stream",
     "text": [
      "Data(edge_index=[2, 472], label=5, pos=[77, 2], x=[77, 3])\n",
      "Data(edge_index=[2, 488], label=3, pos=[81, 2], x=[81, 3])\n"
     ]
    }
   ],
   "source": [
    "train_data = torch.load(\"data/MNISTSuperpixels_train_data.pt\")\n",
    "print(train_data[0])\n",
    "test_data = torch.load(\"data/MNISTSuperpixels_test_data.pt\")\n",
    "print(test_data[0])"
   ]
  },
  {
   "cell_type": "code",
   "execution_count": 3,
   "metadata": {},
   "outputs": [],
   "source": [
    "train_loader = DataLoader(train_data, batch_size=64, shuffle=True)\n",
    "test_loader = DataLoader(test_data, batch_size=64)"
   ]
  },
  {
   "cell_type": "code",
   "execution_count": 4,
   "metadata": {},
   "outputs": [],
   "source": [
    "rotation_0 = T.RandomRotate(degrees=180, axis=0)\n",
    "rotation_1 = T.RandomRotate(degrees=180, axis=1)\n",
    "rotation_2 = T.RandomRotate(degrees=180, axis=2)"
   ]
  },
  {
   "cell_type": "code",
   "execution_count": 5,
   "metadata": {},
   "outputs": [],
   "source": [
    "NUM_NODE_FEATURES = 3\n",
    "NUM_CLASSES = 10"
   ]
  },
  {
   "cell_type": "code",
   "execution_count": null,
   "metadata": {},
   "outputs": [],
   "source": []
  },
  {
   "cell_type": "code",
   "execution_count": 6,
   "metadata": {
    "pycharm": {
     "name": "#%%\n"
    }
   },
   "outputs": [],
   "source": [
    "class Net(torch.nn.Module):\n",
    "    def __init__(self):\n",
    "        super(Net, self).__init__()\n",
    "        self.conv1 = GCNConv(NUM_NODE_FEATURES, 12)\n",
    "        self.conv2 = GCNConv(12, 24)\n",
    "        self.conv3 = GCNConv(24, 12)\n",
    "        self.linear = nn.Linear(12, NUM_CLASSES)\n",
    "        \n",
    "#         >>> m = nn.AvgPool2d(3, stride=2)\n",
    "# >>> # pool of non-square window\n",
    "# >>> m = nn.AvgPool2d((3, 2), stride=(2, 1))\n",
    "\n",
    "    def forward(self, data):\n",
    "        x, edge_index = data.x, data.edge_index\n",
    "\n",
    "        x = self.conv1(x, edge_index)\n",
    "        x = F.relu(x)\n",
    "        x = F.dropout(x, p=0.2, training=self.training)\n",
    "        x = self.conv2(x, edge_index)\n",
    "        x = F.relu(x)\n",
    "        x = F.dropout(x, p=0.2, training=self.training)\n",
    "        x = self.conv3(x, edge_index)\n",
    "        \n",
    "        x = global_mean_pool(x, data.batch)\n",
    "        \n",
    "        x = self.linear(x)\n",
    "#         x = F.relu(x)\n",
    "#         x = self.linear2(x)\n",
    "\n",
    "        return F.log_softmax(x)"
   ]
  },
  {
   "cell_type": "code",
   "execution_count": 7,
   "metadata": {
    "pycharm": {
     "name": "#%%\n"
    }
   },
   "outputs": [
    {
     "name": "stdout",
     "output_type": "stream",
     "text": [
      "10000\n"
     ]
    }
   ],
   "source": [
    "print(len(test_data))"
   ]
  },
  {
   "cell_type": "code",
   "execution_count": 8,
   "metadata": {
    "pycharm": {
     "name": "#%%\n"
    }
   },
   "outputs": [],
   "source": [
    "model = Net()"
   ]
  },
  {
   "cell_type": "code",
   "execution_count": 9,
   "metadata": {
    "pycharm": {
     "name": "#%%\n"
    }
   },
   "outputs": [
    {
     "name": "stdout",
     "output_type": "stream",
     "text": [
      "cuda\n"
     ]
    }
   ],
   "source": [
    "device = torch.device('cuda' if torch.cuda.is_available() else 'cpu')\n",
    "print(device)"
   ]
  },
  {
   "cell_type": "code",
   "execution_count": 10,
   "metadata": {
    "pycharm": {
     "name": "#%%\n"
    }
   },
   "outputs": [],
   "source": [
    "model.to(device)\n",
    "optimizer = torch.optim.Adam(model.parameters(), lr=0.01)"
   ]
  },
  {
   "cell_type": "code",
   "execution_count": 11,
   "metadata": {
    "pycharm": {
     "name": "#%%\n"
    }
   },
   "outputs": [],
   "source": [
    "def evaluate():\n",
    "    model.eval()\n",
    "    acc = 0\n",
    "    for data in test_loader:\n",
    "        data = data.to(device)\n",
    "        out = model(data)\n",
    "        _, predicts = out.max(dim=1)\n",
    "        targets = torch.tensor(data.label).to(device)\n",
    "        correct = torch.eq(predicts, targets).sum().item()\n",
    "        acc += correct\n",
    "    acc /= len(test_data)\n",
    "    return acc"
   ]
  },
  {
   "cell_type": "code",
   "execution_count": 12,
   "metadata": {},
   "outputs": [
    {
     "name": "stderr",
     "output_type": "stream",
     "text": [
      "C:\\Users\\Ukasz\\Anaconda3\\envs\\gdl\\lib\\site-packages\\ipykernel_launcher.py:30: UserWarning: Implicit dimension choice for log_softmax has been deprecated. Change the call to include dim=X as an argument.\n"
     ]
    },
    {
     "name": "stdout",
     "output_type": "stream",
     "text": [
      "0.0967\n"
     ]
    }
   ],
   "source": [
    "acc = evaluate()\n",
    "print(acc)"
   ]
  },
  {
   "cell_type": "code",
   "execution_count": 13,
   "metadata": {
    "pycharm": {
     "name": "#%%\n"
    }
   },
   "outputs": [
    {
     "name": "stderr",
     "output_type": "stream",
     "text": [
      "C:\\Users\\Ukasz\\Anaconda3\\envs\\gdl\\lib\\site-packages\\ipykernel_launcher.py:30: UserWarning: Implicit dimension choice for log_softmax has been deprecated. Change the call to include dim=X as an argument.\n"
     ]
    },
    {
     "name": "stdout",
     "output_type": "stream",
     "text": [
      "Ep: 0 Loss: 1548.658515572548 Acc: 0.3477\n",
      "Ep: 1 Loss: 1400.4042782783508 Acc: 0.3696\n",
      "Ep: 2 Loss: 1319.859770655632 Acc: 0.4602\n",
      "Ep: 3 Loss: 1293.8583031892776 Acc: 0.4836\n",
      "Ep: 4 Loss: 1253.6523121595383 Acc: 0.5101\n",
      "Ep: 5 Loss: 1207.7012578248978 Acc: 0.5608\n",
      "Ep: 6 Loss: 1172.7122653722763 Acc: 0.5753\n",
      "Ep: 7 Loss: 1135.1575815677643 Acc: 0.6386\n",
      "Ep: 8 Loss: 1100.2982981204987 Acc: 0.5702\n",
      "Ep: 9 Loss: 1071.5555999279022 Acc: 0.6524\n",
      "Ep: 10 Loss: 1047.1750967502594 Acc: 0.6559\n",
      "Ep: 11 Loss: 1036.6210398077965 Acc: 0.6733\n",
      "Ep: 12 Loss: 1022.5719775557518 Acc: 0.6894\n",
      "Ep: 13 Loss: 1012.688056409359 Acc: 0.6804\n",
      "Ep: 14 Loss: 1016.5748320221901 Acc: 0.7008\n",
      "Ep: 15 Loss: 1006.4430186748505 Acc: 0.7142\n",
      "Ep: 16 Loss: 999.0073153972626 Acc: 0.6453\n",
      "Ep: 17 Loss: 993.5368751883507 Acc: 0.6573\n",
      "Ep: 18 Loss: 986.0555467009544 Acc: 0.6426\n",
      "Ep: 19 Loss: 980.804057776928 Acc: 0.7065\n",
      "Ep: 20 Loss: 980.8385877013206 Acc: 0.6979\n",
      "Ep: 21 Loss: 972.2628401517868 Acc: 0.668\n",
      "Ep: 22 Loss: 970.8127064704895 Acc: 0.7144\n",
      "Ep: 23 Loss: 967.1276527643204 Acc: 0.7001\n",
      "Ep: 24 Loss: 967.6314591169357 Acc: 0.7112\n",
      "Ep: 25 Loss: 968.2633895277977 Acc: 0.6947\n",
      "Ep: 26 Loss: 969.9051229357719 Acc: 0.7176\n",
      "Ep: 27 Loss: 958.9139651656151 Acc: 0.7008\n",
      "Ep: 28 Loss: 966.6506533026695 Acc: 0.6899\n",
      "Ep: 29 Loss: 959.4796940684319 Acc: 0.6987\n",
      "Ep: 30 Loss: 955.7095038890839 Acc: 0.7041\n",
      "Ep: 31 Loss: 956.5428277254105 Acc: 0.6871\n",
      "Ep: 32 Loss: 957.7290898561478 Acc: 0.7093\n",
      "Ep: 33 Loss: 955.626268029213 Acc: 0.6874\n",
      "Ep: 34 Loss: 953.1254434585571 Acc: 0.6915\n",
      "Ep: 35 Loss: 952.5263061523438 Acc: 0.696\n",
      "Ep: 36 Loss: 952.2101100087166 Acc: 0.7096\n",
      "Ep: 37 Loss: 954.2192752957344 Acc: 0.7037\n",
      "Ep: 38 Loss: 952.9986017942429 Acc: 0.704\n",
      "Ep: 39 Loss: 951.4864764213562 Acc: 0.7176\n",
      "Ep: 40 Loss: 957.8063271045685 Acc: 0.7177\n",
      "Ep: 41 Loss: 949.1273962855339 Acc: 0.7158\n",
      "Ep: 42 Loss: 947.658030629158 Acc: 0.6503\n",
      "Ep: 43 Loss: 953.2860836386681 Acc: 0.6905\n",
      "Ep: 44 Loss: 948.0078301429749 Acc: 0.6995\n",
      "Ep: 45 Loss: 947.1643388271332 Acc: 0.692\n",
      "Ep: 46 Loss: 951.6084086298943 Acc: 0.7023\n",
      "Ep: 47 Loss: 950.0705378055573 Acc: 0.7114\n",
      "Ep: 48 Loss: 950.6537398695946 Acc: 0.7117\n",
      "Ep: 49 Loss: 946.3499497771263 Acc: 0.6997\n",
      "Ep: 50 Loss: 946.647944688797 Acc: 0.7028\n",
      "Ep: 51 Loss: 944.0546588301659 Acc: 0.7158\n",
      "Ep: 52 Loss: 944.572213113308 Acc: 0.6644\n",
      "Ep: 53 Loss: 947.4041135907173 Acc: 0.6856\n",
      "Ep: 54 Loss: 940.0895584225655 Acc: 0.6905\n",
      "Ep: 55 Loss: 946.9775677919388 Acc: 0.7035\n",
      "Ep: 56 Loss: 942.6090480685234 Acc: 0.7252\n",
      "Ep: 57 Loss: 943.2186636924744 Acc: 0.717\n",
      "Ep: 58 Loss: 942.6524886488914 Acc: 0.7188\n",
      "Ep: 59 Loss: 944.0601543784142 Acc: 0.713\n",
      "Ep: 60 Loss: 938.5021807551384 Acc: 0.7156\n",
      "Ep: 61 Loss: 936.6856005191803 Acc: 0.7008\n",
      "Ep: 62 Loss: 937.8587763905525 Acc: 0.7268\n",
      "Ep: 63 Loss: 936.9307415485382 Acc: 0.7291\n",
      "Ep: 64 Loss: 938.3314344286919 Acc: 0.7196\n",
      "Ep: 65 Loss: 935.6630748510361 Acc: 0.721\n",
      "Ep: 66 Loss: 940.30991345644 Acc: 0.7132\n",
      "Ep: 67 Loss: 930.0163320302963 Acc: 0.713\n",
      "Ep: 68 Loss: 935.3104468584061 Acc: 0.7283\n",
      "Ep: 69 Loss: 933.7922334074974 Acc: 0.7158\n",
      "Ep: 70 Loss: 932.5593636631966 Acc: 0.7446\n",
      "Ep: 71 Loss: 932.2955676913261 Acc: 0.7146\n",
      "Ep: 72 Loss: 928.4092710614204 Acc: 0.6976\n",
      "Ep: 73 Loss: 930.3927110433578 Acc: 0.722\n",
      "Ep: 74 Loss: 923.6831216216087 Acc: 0.7292\n",
      "Ep: 75 Loss: 923.9313436746597 Acc: 0.7344\n",
      "Ep: 76 Loss: 926.0775634050369 Acc: 0.7254\n",
      "Ep: 77 Loss: 921.0827631354332 Acc: 0.6534\n",
      "Ep: 78 Loss: 921.0523184537888 Acc: 0.7201\n",
      "Ep: 79 Loss: 913.1427456140518 Acc: 0.7012\n",
      "Ep: 80 Loss: 918.78538864851 Acc: 0.7235\n",
      "Ep: 81 Loss: 917.9003258347511 Acc: 0.7328\n",
      "Ep: 82 Loss: 918.5379463434219 Acc: 0.7271\n",
      "Ep: 83 Loss: 914.5899434089661 Acc: 0.7208\n",
      "Ep: 84 Loss: 911.5877223610878 Acc: 0.7085\n",
      "Ep: 85 Loss: 913.5198380947113 Acc: 0.7051\n",
      "Ep: 86 Loss: 904.6084040403366 Acc: 0.7336\n",
      "Ep: 87 Loss: 911.4083213210106 Acc: 0.7099\n",
      "Ep: 88 Loss: 907.0742872953415 Acc: 0.7\n",
      "Ep: 89 Loss: 898.4944707155228 Acc: 0.7456\n",
      "Ep: 90 Loss: 895.679295539856 Acc: 0.7416\n",
      "Ep: 91 Loss: 894.5816242098808 Acc: 0.706\n",
      "Ep: 92 Loss: 900.5230516195297 Acc: 0.6898\n",
      "Ep: 93 Loss: 892.3000594973564 Acc: 0.7577\n",
      "Ep: 94 Loss: 886.4311231970787 Acc: 0.7479\n",
      "Ep: 95 Loss: 891.2619155049324 Acc: 0.7239\n",
      "Ep: 96 Loss: 894.3148451447487 Acc: 0.7355\n",
      "Ep: 97 Loss: 891.5434011816978 Acc: 0.7338\n",
      "Ep: 98 Loss: 891.7232519388199 Acc: 0.7479\n",
      "Ep: 99 Loss: 888.084036231041 Acc: 0.7483\n"
     ]
    }
   ],
   "source": [
    "loss_hist = []\n",
    "acc_hist = []\n",
    "\n",
    "for i in range(100):\n",
    "    \n",
    "    model.train()\n",
    "    total_loss = 0\n",
    "    \n",
    "    for data in train_loader:     \n",
    "        \n",
    "        \n",
    "        data = data.to(device)\n",
    "        out = model(data)\n",
    "#         out = out.reshape((1,10)).to(device)\n",
    "        target = torch.tensor(data.label).to(device)\n",
    "        \n",
    "        optimizer.zero_grad()\n",
    "        loss = F.nll_loss(out, target)\n",
    "        loss.backward()\n",
    "        optimizer.step()\n",
    "        \n",
    "        total_loss += loss.item()\n",
    "    \n",
    "    acc = evaluate()\n",
    "    loss_hist.append(total_loss)\n",
    "    acc_hist.append(acc)\n",
    "    print(\"Ep:\", i, \"Loss:\", total_loss, \"Acc:\", acc)"
   ]
  },
  {
   "cell_type": "code",
   "execution_count": 14,
   "metadata": {},
   "outputs": [
    {
     "data": {
      "image/png": "[encoded data removed]",
      "text/plain": [
       "<Figure size 432x288 with 1 Axes>"
      ]
     },
     "metadata": {
      "needs_background": "light"
     },
     "output_type": "display_data"
    }
   ],
   "source": [
    "plt.plot(loss_hist)\n",
    "plt.show()"
   ]
  },
  {
   "cell_type": "code",
   "execution_count": 15,
   "metadata": {},
   "outputs": [
    {
     "data": {
      "image/png": "[encoded data removed]",
      "text/plain": [
       "<Figure size 432x288 with 1 Axes>"
      ]
     },
     "metadata": {
      "needs_background": "light"
     },
     "output_type": "display_data"
    }
   ],
   "source": [
    "plt.plot(acc_hist)\n",
    "plt.show()"
   ]
  }
 ],
 "metadata": {
  "kernelspec": {
   "display_name": "Python 3",
   "language": "python",
   "name": "python3"
  },
  "language_info": {
   "codemirror_mode": {
    "name": "ipython",
    "version": 3
   },
   "file_extension": ".py",
   "mimetype": "text/x-python",
   "name": "python",
   "nbconvert_exporter": "python",
   "pygments_lexer": "ipython3",
   "version": "3.7.7"
  },
  "pycharm": {
   "stem_cell": {
    "cell_type": "raw",
    "metadata": {
     "collapsed": false
    },
    "source": []
   }
  }
 },
 "nbformat": 4,
 "nbformat_minor": 1
}
