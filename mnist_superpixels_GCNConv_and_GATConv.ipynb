{
 "cells": [
  {
   "cell_type": "code",
   "execution_count": 1,
   "metadata": {
    "scrolled": true
   },
   "outputs": [],
   "source": [
    "import torch_geometric.transforms as T\n",
    "from torch_geometric.nn import global_max_pool, global_mean_pool, global_add_pool\n",
    "import torch\n",
    "import torch.nn as nn\n",
    "import torch.nn.functional as F\n",
    "from torch_geometric.nn import GCNConv, ChebConv, SAGEConv, GATConv, DenseGCNConv\n",
    "import matplotlib.pyplot as plt\n",
    "import numpy as np\n",
    "import utils\n",
    "from torch_geometric.data import Data, Batch, DataLoader\n",
    "from IPython.display import display, clear_output\n",
    "import time"
   ]
  },
  {
   "cell_type": "code",
   "execution_count": 2,
   "metadata": {
    "scrolled": true
   },
   "outputs": [
    {
     "name": "stdout",
     "output_type": "stream",
     "text": [
      "60000\n",
      "10000\n",
      "Data(edge_index=[2, 472], label=5, pos=[77, 2], x=[77, 3])\n",
      "Data(edge_index=[2, 488], label=7, pos=[81, 2], x=[81, 3])\n"
     ]
    }
   ],
   "source": [
    "train_data = torch.load(\"data/MNISTSuperpixels_train_data.pt\")\n",
    "test_data = torch.load(\"data/MNISTSuperpixels_test_data.pt\")\n",
    "\n",
    "print(len(train_data))\n",
    "print(len(test_data))\n",
    "\n",
    "print(train_data[0])\n",
    "print(test_data[0])"
   ]
  },
  {
   "cell_type": "code",
   "execution_count": 3,
   "metadata": {
    "scrolled": true
   },
   "outputs": [],
   "source": [
    "train_loader = DataLoader(train_data, batch_size=32, shuffle=True)\n",
    "test_loader = DataLoader(test_data, batch_size=32)"
   ]
  },
  {
   "cell_type": "code",
   "execution_count": 4,
   "metadata": {
    "scrolled": true
   },
   "outputs": [],
   "source": [
    "NUM_NODE_FEATURES = 3\n",
    "NUM_CLASSES = 10"
   ]
  },
  {
   "cell_type": "code",
   "execution_count": 5,
   "metadata": {
    "pycharm": {
     "name": "#%%\n"
    },
    "scrolled": true
   },
   "outputs": [],
   "source": [
    "class GCN(torch.nn.Module):\n",
    "    def __init__(self):\n",
    "        super(GCN, self).__init__()\n",
    "        self.conv1 = GCNConv(NUM_NODE_FEATURES, 32)\n",
    "        self.conv2 = GCNConv(32, 64)\n",
    "        self.conv3 = GCNConv(64, 64)  \n",
    "        \n",
    "        self.linear1 = nn.Linear(64, 32)\n",
    "        self.linear2 = nn.Linear(32, NUM_CLASSES)\n",
    "        \n",
    "    def forward(self, data):\n",
    "        x, edge_index = data.x, data.edge_index\n",
    "\n",
    "        x = self.conv1(x, edge_index)\n",
    "        x = F.relu(x)\n",
    "#         x = F.dropout(x, p=0.2, training=self.training)\n",
    "        x = self.conv2(x, edge_index)\n",
    "        x = F.relu(x)\n",
    "#         x = F.dropout(x, p=0.2, training=self.training)\n",
    "        x = self.conv3(x, edge_index)\n",
    "        \n",
    "        x = global_add_pool(x, data.batch)\n",
    "#         x = global_mean_pool(x, data.batch)\n",
    "#         x = global_max_pool(x, data.batch)\n",
    "        \n",
    "        x = self.linear1(x)\n",
    "        x = F.relu(x)\n",
    "        x = self.linear2(x)\n",
    "\n",
    "        return F.log_softmax(x)"
   ]
  },
  {
   "cell_type": "code",
   "execution_count": 6,
   "metadata": {},
   "outputs": [],
   "source": [
    "class GAT(torch.nn.Module):\n",
    "    def __init__(self):\n",
    "        super(GAT, self).__init__()\n",
    "        \n",
    "        self.conv1 = GATConv(NUM_NODE_FEATURES, 32, heads=1)\n",
    "        self.conv2 = GATConv(32, 64, heads=1)\n",
    "        self.conv3 = GATConv(64, 128, heads=1)\n",
    "        \n",
    "        self.linear1 = nn.Linear(128, 32)\n",
    "        self.linear2 = nn.Linear(32, NUM_CLASSES)\n",
    "\n",
    "    def forward(self, data):\n",
    "        x, edge_index = data.x, data.edge_index\n",
    "        \n",
    "        x = self.conv1(x, edge_index)\n",
    "        x = F.relu(x)\n",
    "        x = self.conv2(x, edge_index)\n",
    "        x = F.relu(x)\n",
    "        x = self.conv3(x, edge_index)\n",
    "        \n",
    "        x = global_add_pool(x, data.batch)\n",
    "        \n",
    "        x = self.linear1(x)\n",
    "        x = F.relu(x)\n",
    "        x = self.linear2(x)\n",
    "        \n",
    "        return F.log_softmax(x)"
   ]
  },
  {
   "cell_type": "code",
   "execution_count": 7,
   "metadata": {
    "pycharm": {
     "name": "#%%\n"
    },
    "scrolled": true
   },
   "outputs": [
    {
     "name": "stdout",
     "output_type": "stream",
     "text": [
      "cuda\n"
     ]
    }
   ],
   "source": [
    "device = torch.device('cuda' if torch.cuda.is_available() else 'cpu')\n",
    "print(device)"
   ]
  },
  {
   "cell_type": "code",
   "execution_count": 8,
   "metadata": {
    "pycharm": {
     "name": "#%%\n"
    },
    "scrolled": true
   },
   "outputs": [],
   "source": [
    "model = GCN()\n",
    "# model = GAT()\n",
    "model = model.to(device)\n",
    "optimizer = torch.optim.Adam(model.parameters(), lr=0.001)"
   ]
  },
  {
   "cell_type": "code",
   "execution_count": 9,
   "metadata": {
    "pycharm": {
     "name": "#%%\n"
    },
    "scrolled": true
   },
   "outputs": [],
   "source": [
    "def evaluate():\n",
    "    model.eval()\n",
    "    acc = 0\n",
    "    loss = 0\n",
    "    for data in test_loader:\n",
    "        \n",
    "        data = data.to(device)\n",
    "        out = model(data) \n",
    "        _, predicts = out.max(dim=1)\n",
    "        target = torch.tensor(data.label).to(device)\n",
    "        loss += F.nll_loss(out, target).item()\n",
    "        correct = predicts.eq(target).sum().item()\n",
    "        acc += correct\n",
    "        \n",
    "    acc =  acc * 100 / len(test_data)\n",
    "    loss /= len(test_data)\n",
    "    return acc, loss"
   ]
  },
  {
   "cell_type": "code",
   "execution_count": 10,
   "metadata": {
    "scrolled": true
   },
   "outputs": [
    {
     "name": "stderr",
     "output_type": "stream",
     "text": [
      "C:\\Users\\Ukasz\\Anaconda3\\envs\\gdl\\lib\\site-packages\\ipykernel_launcher.py:30: UserWarning: Implicit dimension choice for log_softmax has been deprecated. Change the call to include dim=X as an argument.\n",
      "C:\\Users\\Ukasz\\Anaconda3\\envs\\gdl\\lib\\site-packages\\ipykernel_launcher.py:10: UserWarning: To copy construct from a tensor, it is recommended to use sourceTensor.clone().detach() or sourceTensor.clone().detach().requires_grad_(True), rather than torch.tensor(sourceTensor).\n",
      "  # Remove the CWD from sys.path while we load stuff.\n"
     ]
    },
    {
     "name": "stdout",
     "output_type": "stream",
     "text": [
      "9.8\n",
      "3.1917241806030274\n"
     ]
    }
   ],
   "source": [
    "acc, loss = evaluate()\n",
    "print(acc)\n",
    "print(loss)"
   ]
  },
  {
   "cell_type": "code",
   "execution_count": 11,
   "metadata": {
    "pycharm": {
     "name": "#%%\n"
    },
    "scrolled": false
   },
   "outputs": [
    {
     "name": "stderr",
     "output_type": "stream",
     "text": [
      "C:\\Users\\Ukasz\\Anaconda3\\envs\\gdl\\lib\\site-packages\\ipykernel_launcher.py:30: UserWarning: Implicit dimension choice for log_softmax has been deprecated. Change the call to include dim=X as an argument.\n",
      "C:\\Users\\Ukasz\\Anaconda3\\envs\\gdl\\lib\\site-packages\\ipykernel_launcher.py:14: UserWarning: To copy construct from a tensor, it is recommended to use sourceTensor.clone().detach() or sourceTensor.clone().detach().requires_grad_(True), rather than torch.tensor(sourceTensor).\n",
      "  \n",
      "C:\\Users\\Ukasz\\Anaconda3\\envs\\gdl\\lib\\site-packages\\ipykernel_launcher.py:10: UserWarning: To copy construct from a tensor, it is recommended to use sourceTensor.clone().detach() or sourceTensor.clone().detach().requires_grad_(True), rather than torch.tensor(sourceTensor).\n",
      "  # Remove the CWD from sys.path while we load stuff.\n"
     ]
    },
    {
     "name": "stdout",
     "output_type": "stream",
     "text": [
      "Ep: 0, Train loss: 0.0750, Test loss: 0.0589, Acc: 31.95%\n",
      "Ep: 1, Train loss: 0.0541, Test loss: 0.0496, Acc: 38.45%\n",
      "Ep: 2, Train loss: 0.0458, Test loss: 0.0435, Acc: 46.62%\n",
      "Ep: 3, Train loss: 0.0406, Test loss: 0.0360, Acc: 58.90%\n",
      "Ep: 4, Train loss: 0.0346, Test loss: 0.0296, Acc: 67.80%\n",
      "Ep: 5, Train loss: 0.0305, Test loss: 0.0291, Acc: 68.08%\n",
      "Ep: 6, Train loss: 0.0285, Test loss: 0.0273, Acc: 69.53%\n",
      "Ep: 7, Train loss: 0.0272, Test loss: 0.0252, Acc: 71.43%\n",
      "Ep: 8, Train loss: 0.0254, Test loss: 0.0230, Acc: 74.30%\n",
      "Ep: 9, Train loss: 0.0242, Test loss: 0.0245, Acc: 71.66%\n",
      "Ep: 10, Train loss: 0.0229, Test loss: 0.0202, Acc: 78.09%\n",
      "Ep: 11, Train loss: 0.0216, Test loss: 0.0228, Acc: 74.34%\n",
      "Ep: 12, Train loss: 0.0207, Test loss: 0.0219, Acc: 75.99%\n",
      "Ep: 13, Train loss: 0.0194, Test loss: 0.0190, Acc: 80.26%\n",
      "Ep: 14, Train loss: 0.0183, Test loss: 0.0166, Acc: 82.62%\n",
      "Ep: 15, Train loss: 0.0175, Test loss: 0.0159, Acc: 82.87%\n",
      "Ep: 16, Train loss: 0.0170, Test loss: 0.0148, Acc: 84.36%\n",
      "Ep: 17, Train loss: 0.0165, Test loss: 0.0163, Acc: 82.59%\n",
      "Ep: 18, Train loss: 0.0159, Test loss: 0.0146, Acc: 84.58%\n",
      "Ep: 19, Train loss: 0.0154, Test loss: 0.0140, Acc: 85.43%\n",
      "Ep: 20, Train loss: 0.0151, Test loss: 0.0154, Acc: 83.85%\n",
      "Ep: 21, Train loss: 0.0148, Test loss: 0.0136, Acc: 85.28%\n",
      "Ep: 22, Train loss: 0.0145, Test loss: 0.0129, Acc: 86.71%\n",
      "Ep: 23, Train loss: 0.0142, Test loss: 0.0133, Acc: 85.89%\n",
      "Ep: 24, Train loss: 0.0139, Test loss: 0.0134, Acc: 86.24%\n",
      "Ep: 25, Train loss: 0.0137, Test loss: 0.0132, Acc: 86.18%\n",
      "Ep: 26, Train loss: 0.0135, Test loss: 0.0144, Acc: 84.71%\n",
      "Ep: 27, Train loss: 0.0134, Test loss: 0.0124, Acc: 86.77%\n",
      "Ep: 28, Train loss: 0.0132, Test loss: 0.0123, Acc: 87.64%\n",
      "Ep: 29, Train loss: 0.0130, Test loss: 0.0130, Acc: 86.58%\n",
      "Ep: 30, Train loss: 0.0128, Test loss: 0.0125, Acc: 86.62%\n",
      "Ep: 31, Train loss: 0.0129, Test loss: 0.0143, Acc: 85.07%\n",
      "Ep: 32, Train loss: 0.0126, Test loss: 0.0133, Acc: 86.20%\n",
      "Ep: 33, Train loss: 0.0125, Test loss: 0.0190, Acc: 80.40%\n",
      "Ep: 34, Train loss: 0.0125, Test loss: 0.0125, Acc: 86.56%\n",
      "Ep: 35, Train loss: 0.0123, Test loss: 0.0129, Acc: 86.91%\n",
      "Ep: 36, Train loss: 0.0122, Test loss: 0.0121, Acc: 87.13%\n",
      "Ep: 37, Train loss: 0.0122, Test loss: 0.0128, Acc: 86.44%\n",
      "Ep: 38, Train loss: 0.0120, Test loss: 0.0112, Acc: 88.60%\n",
      "Ep: 39, Train loss: 0.0119, Test loss: 0.0121, Acc: 87.33%\n",
      "Ep: 40, Train loss: 0.0118, Test loss: 0.0122, Acc: 87.38%\n",
      "Ep: 41, Train loss: 0.0117, Test loss: 0.0121, Acc: 87.20%\n",
      "Ep: 42, Train loss: 0.0117, Test loss: 0.0125, Acc: 87.25%\n",
      "Ep: 43, Train loss: 0.0116, Test loss: 0.0111, Acc: 88.71%\n",
      "Ep: 44, Train loss: 0.0115, Test loss: 0.0112, Acc: 88.55%\n",
      "Ep: 45, Train loss: 0.0114, Test loss: 0.0119, Acc: 87.67%\n",
      "Ep: 46, Train loss: 0.0115, Test loss: 0.0106, Acc: 89.21%\n",
      "Ep: 47, Train loss: 0.0114, Test loss: 0.0113, Acc: 88.37%\n",
      "Ep: 48, Train loss: 0.0114, Test loss: 0.0115, Acc: 87.93%\n",
      "Ep: 49, Train loss: 0.0112, Test loss: 0.0107, Acc: 89.02%\n",
      "Ep: 50, Train loss: 0.0111, Test loss: 0.0121, Acc: 87.22%\n",
      "Ep: 51, Train loss: 0.0110, Test loss: 0.0112, Acc: 88.11%\n",
      "Ep: 52, Train loss: 0.0110, Test loss: 0.0106, Acc: 89.04%\n",
      "Ep: 53, Train loss: 0.0111, Test loss: 0.0129, Acc: 86.88%\n",
      "Ep: 54, Train loss: 0.0109, Test loss: 0.0105, Acc: 89.32%\n",
      "Ep: 55, Train loss: 0.0110, Test loss: 0.0117, Acc: 88.06%\n",
      "Ep: 56, Train loss: 0.0108, Test loss: 0.0120, Acc: 87.63%\n",
      "Ep: 57, Train loss: 0.0108, Test loss: 0.0108, Acc: 88.73%\n",
      "Ep: 58, Train loss: 0.0107, Test loss: 0.0110, Acc: 88.73%\n",
      "Ep: 59, Train loss: 0.0108, Test loss: 0.0106, Acc: 89.30%\n",
      "Ep: 60, Train loss: 0.0108, Test loss: 0.0113, Acc: 88.49%\n",
      "Ep: 61, Train loss: 0.0107, Test loss: 0.0116, Acc: 87.92%\n",
      "Ep: 62, Train loss: 0.0106, Test loss: 0.0105, Acc: 89.40%\n",
      "Ep: 63, Train loss: 0.0106, Test loss: 0.0105, Acc: 89.13%\n",
      "Ep: 64, Train loss: 0.0106, Test loss: 0.0114, Acc: 88.49%\n",
      "Ep: 65, Train loss: 0.0105, Test loss: 0.0118, Acc: 88.29%\n",
      "Ep: 66, Train loss: 0.0104, Test loss: 0.0108, Acc: 89.08%\n",
      "Ep: 67, Train loss: 0.0104, Test loss: 0.0116, Acc: 88.08%\n",
      "Ep: 68, Train loss: 0.0103, Test loss: 0.0122, Acc: 86.76%\n",
      "Ep: 69, Train loss: 0.0102, Test loss: 0.0107, Acc: 89.18%\n",
      "Ep: 70, Train loss: 0.0103, Test loss: 0.0112, Acc: 88.03%\n",
      "Ep: 71, Train loss: 0.0102, Test loss: 0.0111, Acc: 88.28%\n",
      "Ep: 72, Train loss: 0.0102, Test loss: 0.0099, Acc: 89.81%\n",
      "Ep: 73, Train loss: 0.0102, Test loss: 0.0107, Acc: 88.82%\n",
      "Ep: 74, Train loss: 0.0101, Test loss: 0.0109, Acc: 88.56%\n",
      "Ep: 75, Train loss: 0.0101, Test loss: 0.0097, Acc: 90.01%\n",
      "Ep: 76, Train loss: 0.0100, Test loss: 0.0118, Acc: 87.69%\n",
      "Ep: 77, Train loss: 0.0100, Test loss: 0.0107, Acc: 88.79%\n",
      "Ep: 78, Train loss: 0.0100, Test loss: 0.0100, Acc: 89.73%\n",
      "Ep: 79, Train loss: 0.0100, Test loss: 0.0101, Acc: 89.47%\n",
      "Ep: 80, Train loss: 0.0100, Test loss: 0.0109, Acc: 88.48%\n",
      "Ep: 81, Train loss: 0.0099, Test loss: 0.0108, Acc: 88.91%\n",
      "Ep: 82, Train loss: 0.0099, Test loss: 0.0104, Acc: 89.16%\n",
      "Ep: 83, Train loss: 0.0098, Test loss: 0.0113, Acc: 88.50%\n",
      "Ep: 84, Train loss: 0.0099, Test loss: 0.0113, Acc: 88.42%\n",
      "Ep: 85, Train loss: 0.0097, Test loss: 0.0121, Acc: 88.01%\n",
      "Ep: 86, Train loss: 0.0097, Test loss: 0.0095, Acc: 90.08%\n",
      "Ep: 87, Train loss: 0.0097, Test loss: 0.0105, Acc: 89.18%\n",
      "Ep: 88, Train loss: 0.0097, Test loss: 0.0098, Acc: 89.49%\n",
      "Ep: 89, Train loss: 0.0097, Test loss: 0.0098, Acc: 89.54%\n",
      "Ep: 90, Train loss: 0.0097, Test loss: 0.0106, Acc: 88.85%\n",
      "Ep: 91, Train loss: 0.0095, Test loss: 0.0094, Acc: 90.63%\n",
      "Ep: 92, Train loss: 0.0095, Test loss: 0.0099, Acc: 89.94%\n",
      "Ep: 93, Train loss: 0.0097, Test loss: 0.0097, Acc: 89.83%\n",
      "Ep: 94, Train loss: 0.0096, Test loss: 0.0105, Acc: 89.25%\n",
      "Ep: 95, Train loss: 0.0095, Test loss: 0.0106, Acc: 88.79%\n",
      "Ep: 96, Train loss: 0.0095, Test loss: 0.0133, Acc: 86.59%\n",
      "Ep: 97, Train loss: 0.0095, Test loss: 0.0097, Acc: 89.93%\n",
      "Ep: 98, Train loss: 0.0095, Test loss: 0.0106, Acc: 88.93%\n",
      "Ep: 99, Train loss: 0.0096, Test loss: 0.0101, Acc: 89.35%\n"
     ]
    }
   ],
   "source": [
    "train_loss_hist = []\n",
    "test_loss_hist = []\n",
    "acc_hist = []\n",
    "\n",
    "for i in range(100):\n",
    "    \n",
    "    model.train()\n",
    "    total_loss = 0\n",
    "    \n",
    "    for data in train_loader:     \n",
    "        \n",
    "        data = data.to(device)\n",
    "        out = model(data)\n",
    "        target = torch.tensor(data.label).to(device)\n",
    "    \n",
    "        optimizer.zero_grad()\n",
    "        loss = F.nll_loss(out, target)\n",
    "        loss.backward()\n",
    "        optimizer.step()\n",
    "        \n",
    "        total_loss += loss.item()\n",
    "    \n",
    "    train_loss = total_loss / len(train_data) \n",
    "    acc, test_loss = evaluate()\n",
    "    \n",
    "    train_loss_hist.append(train_loss)\n",
    "    test_loss_hist.append(test_loss)\n",
    "    acc_hist.append(acc)\n",
    "    \n",
    "    print(f\"Ep: {i}, Train loss: {train_loss:.4f}, Test loss: {test_loss:.4f}, Acc: {acc:.2f}%\")"
   ]
  },
  {
   "cell_type": "code",
   "execution_count": 12,
   "metadata": {},
   "outputs": [
    {
     "data": {
      "image/png": "[encoded data removed]",
      "text/plain": [
       "<Figure size 432x288 with 1 Axes>"
      ]
     },
     "metadata": {
      "needs_background": "light"
     },
     "output_type": "display_data"
    }
   ],
   "source": [
    "plt.plot(train_loss_hist, label='train loss')\n",
    "plt.plot(test_loss_hist, label='test loss')\n",
    "plt.legend()\n",
    "plt.show()"
   ]
  },
  {
   "cell_type": "code",
   "execution_count": 13,
   "metadata": {
    "scrolled": true
   },
   "outputs": [
    {
     "data": {
      "image/png": "[encoded data removed]",
      "text/plain": [
       "<Figure size 432x288 with 1 Axes>"
      ]
     },
     "metadata": {
      "needs_background": "light"
     },
     "output_type": "display_data"
    }
   ],
   "source": [
    "plt.plot(acc_hist, label='accuracy')\n",
    "plt.legend()\n",
    "plt.show()"
   ]
  },
  {
   "cell_type": "code",
   "execution_count": null,
   "metadata": {
    "scrolled": true
   },
   "outputs": [],
   "source": []
  }
 ],
 "metadata": {
  "kernelspec": {
   "display_name": "Python 3",
   "language": "python",
   "name": "python3"
  },
  "language_info": {
   "codemirror_mode": {
    "name": "ipython",
    "version": 3
   },
   "file_extension": ".py",
   "mimetype": "text/x-python",
   "name": "python",
   "nbconvert_exporter": "python",
   "pygments_lexer": "ipython3",
   "version": "3.7.7"
  },
  "pycharm": {
   "stem_cell": {
    "cell_type": "raw",
    "metadata": {
     "collapsed": false
    },
    "source": []
   }
  }
 },
 "nbformat": 4,
 "nbformat_minor": 1
}
