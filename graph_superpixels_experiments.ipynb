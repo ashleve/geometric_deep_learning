{
 "cells": [
  {
   "cell_type": "code",
   "execution_count": 66,
   "metadata": {},
   "outputs": [],
   "source": [
    "from torch_geometric.datasets import Planetoid, MNISTSuperpixels\n",
    "import torch_geometric.transforms as T\n",
    "from torchvision.datasets import MNIST\n",
    "import torch\n",
    "import torch.nn.functional as F\n",
    "from torch_geometric.nn import GCNConv, ChebConv, SAGEConv\n",
    "import networkx as nx\n",
    "from torch_geometric.utils.convert import to_networkx\n",
    "import matplotlib.pyplot as plt\n",
    "import numpy as np\n",
    "import utils\n",
    "from torch_geometric.data import Data, Batch, DataLoader\n",
    "from IPython.display import display, clear_output\n",
    "import multiprocessing\n",
    "import time"
   ]
  },
  {
   "cell_type": "code",
   "execution_count": 67,
   "metadata": {},
   "outputs": [
    {
     "name": "stdout",
     "output_type": "stream",
     "text": [
      "Reading dataset\n"
     ]
    }
   ],
   "source": [
    "print(\"Reading dataset\")\n",
    "dataset = MNIST(\"data/mnist\", download=True)\n",
    "# dataset = MNISTSuperpixels(root = '../data/mnist')"
   ]
  },
  {
   "cell_type": "code",
   "execution_count": 68,
   "metadata": {},
   "outputs": [
    {
     "name": "stdout",
     "output_type": "stream",
     "text": [
      "(60000, 28, 28, 1)\n"
     ]
    },
    {
     "data": {
      "image/png": "[encoded data removed]",
      "text/plain": [
       "<Figure size 432x288 with 1 Axes>"
      ]
     },
     "metadata": {
      "needs_background": "light"
     },
     "output_type": "display_data"
    }
   ],
   "source": [
    "images = dataset.data.unsqueeze(-1).numpy().astype(np.float64)\n",
    "print(images.shape)\n",
    "\n",
    "first_image = images[0]\n",
    "plt.imshow(first_image, cmap='gray')\n",
    "plt.show()"
   ]
  },
  {
   "cell_type": "code",
   "execution_count": 69,
   "metadata": {},
   "outputs": [],
   "source": [
    "labels = dataset.targets.numpy()"
   ]
  },
  {
   "cell_type": "code",
   "execution_count": null,
   "metadata": {},
   "outputs": [],
   "source": [
    "print(\"Processing test images into graphs...\")\n",
    "ptime = time.time()\n",
    "\n",
    "with multiprocessing.Pool() as p:\n",
    "    graphs = p.map(utils.get_graph_from_image, images)\n",
    "    \n",
    "data = []\n",
    "for g, l in zip(graphs, labels):\n",
    "    x, edge_index, pos = g\n",
    "    x = torch.tensor(x, dtype=torch.float)\n",
    "    edge_index = torch.tensor(edge_index, dtype=torch.long).T\n",
    "    pos = torch.tensor(pos, dtype=torch.float)\n",
    "    graph = Data(x=x, edge_index=edge_index, pos=pos, label=l)\n",
    "    data.append(graph)\n",
    "    \n",
    "train_data = data[:50000]\n",
    "test_data = data[50000:]\n",
    "    \n",
    "ptime = time.time() - ptime\n",
    "print(\"Took {ptime}s\".format(ptime=ptime))\n",
    "print(\"Data length:\", len(data))"
   ]
  },
  {
   "cell_type": "code",
   "execution_count": 70,
   "metadata": {},
   "outputs": [
    {
     "name": "stdout",
     "output_type": "stream",
     "text": [
      "Processing test images into graphs...\n",
      "Took 119.72724413871765s\n",
      "Data length: 60000\n"
     ]
    }
   ],
   "source": [
    "torch.save(train_data, \"data/MNISTSuperpixels_train_data.pt\")\n",
    "torch.save(test_data, \"data/MNISTSuperpixels_test_data.pt\")"
   ]
  },
  {
   "cell_type": "markdown",
   "metadata": {},
   "source": [
    "<h3>alternative way without multiprocessing</h3>"
   ]
  },
  {
   "cell_type": "code",
   "execution_count": 71,
   "metadata": {},
   "outputs": [],
   "source": [
    "# print(\"Processing images into graphs...\", end=\"\")\n",
    "# ptime = time.time()\n",
    "\n",
    "# data = []\n",
    "# i = 0\n",
    "# for img in images[:1000]:\n",
    "#     x, edge_index, pos = utils.get_graph_from_image(first_image)\n",
    "\n",
    "#     x = torch.tensor(x, dtype=torch.float)\n",
    "#     edge_index = torch.tensor(edge_index, dtype=torch.long).T\n",
    "#     pos = torch.tensor(pos, dtype=torch.float)\n",
    "\n",
    "#     graph = Data(x=x, edge_index=edge_index, pos=pos)\n",
    "#     data.append(graph)\n",
    "\n",
    "#     clear_output(wait=True)\n",
    "#     display('Iteration ' + str(i))\n",
    "#     i += 1\n",
    "    \n",
    "# ptime = time.time() - ptime\n",
    "# print(\" Took {ptime}s\".format(ptime=ptime))\n",
    "\n",
    "# torch.save(data, \"data/MNISTSuperpixels.pt\")"
   ]
  },
  {
   "cell_type": "code",
   "execution_count": 72,
   "metadata": {},
   "outputs": [
    {
     "name": "stdout",
     "output_type": "stream",
     "text": [
      "Data(edge_index=[2, 472], label=5, pos=[77, 2], x=[77, 3])\n",
      "Data(edge_index=[2, 488], label=3, pos=[81, 2], x=[81, 3])\n"
     ]
    }
   ],
   "source": [
    "train_data = torch.load(\"data/MNISTSuperpixels_train_data.pt\")\n",
    "print(train_data[0])\n",
    "test_data = torch.load(\"data/MNISTSuperpixels_test_data.pt\")\n",
    "print(test_data[0])"
   ]
  },
  {
   "cell_type": "code",
   "execution_count": 73,
   "metadata": {},
   "outputs": [],
   "source": [
    "train_loader = DataLoader(train_data, batch_size=64, shuffle=True)\n",
    "test_loader = DataLoader(test_data, batch_size=64)"
   ]
  },
  {
   "cell_type": "code",
   "execution_count": null,
   "metadata": {},
   "outputs": [],
   "source": []
  }
 ],
 "metadata": {
  "kernelspec": {
   "display_name": "Python 3",
   "language": "python",
   "name": "python3"
  },
  "language_info": {
   "codemirror_mode": {
    "name": "ipython",
    "version": 3
   },
   "file_extension": ".py",
   "mimetype": "text/x-python",
   "name": "python",
   "nbconvert_exporter": "python",
   "pygments_lexer": "ipython3",
   "version": "3.7.7"
  }
 },
 "nbformat": 4,
 "nbformat_minor": 1
}
