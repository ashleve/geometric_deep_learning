{
 "cells": [
  {
   "cell_type": "code",
   "execution_count": 1,
   "metadata": {},
   "outputs": [],
   "source": [
    "from torch_geometric.datasets import Planetoid, MNISTSuperpixels\n",
    "from torchvision.datasets import MNIST\n",
    "import torch\n",
    "import torch.nn.functional as F\n",
    "from torch_geometric.nn import GCNConv, ChebConv, SAGEConv\n",
    "from torch_geometric.data import NeighborSampler\n",
    "import wandb\n",
    "import networkx as nx\n",
    "from torch_geometric.utils.convert import to_networkx\n",
    "import matplotlib.pyplot as plt\n",
    "import numpy as np\n",
    "from utils import get_graph_from_image \n",
    "from torch_geometric.data import Data"
   ]
  },
  {
   "cell_type": "code",
   "execution_count": 2,
   "metadata": {},
   "outputs": [
    {
     "name": "stdout",
     "output_type": "stream",
     "text": [
      "Reading dataset\n"
     ]
    }
   ],
   "source": [
    "print(\"Reading dataset\")\n",
    "dataset = MNIST(\"data/mnist\", download=True)"
   ]
  },
  {
   "cell_type": "code",
   "execution_count": 3,
   "metadata": {},
   "outputs": [
    {
     "name": "stdout",
     "output_type": "stream",
     "text": [
      "60000\n",
      "(60000, 28, 28, 1)\n"
     ]
    },
    {
     "data": {
      "image/png": "[encoded data removed]",
      "text/plain": [
       "<Figure size 432x288 with 1 Axes>"
      ]
     },
     "metadata": {
      "needs_background": "light"
     },
     "output_type": "display_data"
    }
   ],
   "source": [
    "imgs = dataset.data.unsqueeze(-1).numpy().astype(np.float64)\n",
    "print(len(imgs))\n",
    "print(imgs.shape)\n",
    "\n",
    "\n",
    "first_image = imgs[0]\n",
    "plt.imshow(first_image, cmap='gray')\n",
    "plt.show()"
   ]
  },
  {
   "cell_type": "code",
   "execution_count": 4,
   "metadata": {},
   "outputs": [
    {
     "name": "stdout",
     "output_type": "stream",
     "text": [
      "SLIC number of segments: 77\n"
     ]
    },
    {
     "ename": "ValueError",
     "evalue": "shape mismatch: value array of shape (3,) could not be broadcast to indexing result of shape (629,1)",
     "output_type": "error",
     "traceback": [
      "\u001b[1;31m---------------------------------------------------------------------------\u001b[0m",
      "\u001b[1;31mValueError\u001b[0m                                Traceback (most recent call last)",
      "\u001b[1;32m<ipython-input-4-a60cba709860>\u001b[0m in \u001b[0;36m<module>\u001b[1;34m\u001b[0m\n\u001b[0;32m      4\u001b[0m \u001b[0mlabels\u001b[0m \u001b[1;33m=\u001b[0m \u001b[0mdataset\u001b[0m\u001b[1;33m.\u001b[0m\u001b[0mtargets\u001b[0m\u001b[1;33m.\u001b[0m\u001b[0mnumpy\u001b[0m\u001b[1;33m(\u001b[0m\u001b[1;33m)\u001b[0m\u001b[1;33m\u001b[0m\u001b[1;33m\u001b[0m\u001b[0m\n\u001b[0;32m      5\u001b[0m \u001b[1;33m\u001b[0m\u001b[0m\n\u001b[1;32m----> 6\u001b[1;33m \u001b[0mx\u001b[0m\u001b[1;33m,\u001b[0m \u001b[0medge_index\u001b[0m \u001b[1;33m=\u001b[0m \u001b[0mget_graph_from_image\u001b[0m\u001b[1;33m(\u001b[0m\u001b[0mfirst_image\u001b[0m\u001b[1;33m)\u001b[0m\u001b[1;33m\u001b[0m\u001b[1;33m\u001b[0m\u001b[0m\n\u001b[0m\u001b[0;32m      7\u001b[0m \u001b[1;33m\u001b[0m\u001b[0m\n\u001b[0;32m      8\u001b[0m \u001b[0mx\u001b[0m \u001b[1;33m=\u001b[0m \u001b[0mtorch\u001b[0m\u001b[1;33m.\u001b[0m\u001b[0mtensor\u001b[0m\u001b[1;33m(\u001b[0m\u001b[0mx\u001b[0m\u001b[1;33m,\u001b[0m \u001b[0mdtype\u001b[0m\u001b[1;33m=\u001b[0m\u001b[0mtorch\u001b[0m\u001b[1;33m.\u001b[0m\u001b[0mfloat\u001b[0m\u001b[1;33m)\u001b[0m\u001b[1;33m\u001b[0m\u001b[1;33m\u001b[0m\u001b[0m\n",
      "\u001b[1;32m~\\PycharmProjects\\geometric_deep_learning\\utils.py\u001b[0m in \u001b[0;36mget_graph_from_image\u001b[1;34m(image, desired_nodes)\u001b[0m\n\u001b[0;32m     15\u001b[0m \u001b[1;33m\u001b[0m\u001b[0m\n\u001b[0;32m     16\u001b[0m     \u001b[0mprint\u001b[0m\u001b[1;33m(\u001b[0m\u001b[1;34mf\"SLIC number of segments: {len(np.unique(segments))}\"\u001b[0m\u001b[1;33m)\u001b[0m\u001b[1;33m\u001b[0m\u001b[1;33m\u001b[0m\u001b[0m\n\u001b[1;32m---> 17\u001b[1;33m     \u001b[0mplt\u001b[0m\u001b[1;33m.\u001b[0m\u001b[0mplot\u001b[0m\u001b[1;33m(\u001b[0m\u001b[0mmark_boundaries\u001b[0m\u001b[1;33m(\u001b[0m\u001b[0mimage\u001b[0m\u001b[1;33m,\u001b[0m \u001b[0msegments\u001b[0m\u001b[1;33m)\u001b[0m\u001b[1;33m)\u001b[0m\u001b[1;33m\u001b[0m\u001b[1;33m\u001b[0m\u001b[0m\n\u001b[0m\u001b[0;32m     18\u001b[0m     \u001b[0mplt\u001b[0m\u001b[1;33m.\u001b[0m\u001b[0mshow\u001b[0m\u001b[1;33m(\u001b[0m\u001b[1;33m)\u001b[0m\u001b[1;33m\u001b[0m\u001b[1;33m\u001b[0m\u001b[0m\n\u001b[0;32m     19\u001b[0m \u001b[1;33m\u001b[0m\u001b[0m\n",
      "\u001b[1;32m~\\Anaconda3\\envs\\gdl\\lib\\site-packages\\skimage\\segmentation\\boundaries.py\u001b[0m in \u001b[0;36mmark_boundaries\u001b[1;34m(image, label_img, color, outline_color, mode, background_label)\u001b[0m\n\u001b[0;32m    227\u001b[0m         \u001b[0moutlines\u001b[0m \u001b[1;33m=\u001b[0m \u001b[0mdilation\u001b[0m\u001b[1;33m(\u001b[0m\u001b[0mboundaries\u001b[0m\u001b[1;33m,\u001b[0m \u001b[0msquare\u001b[0m\u001b[1;33m(\u001b[0m\u001b[1;36m3\u001b[0m\u001b[1;33m)\u001b[0m\u001b[1;33m)\u001b[0m\u001b[1;33m\u001b[0m\u001b[1;33m\u001b[0m\u001b[0m\n\u001b[0;32m    228\u001b[0m         \u001b[0mmarked\u001b[0m\u001b[1;33m[\u001b[0m\u001b[0moutlines\u001b[0m\u001b[1;33m]\u001b[0m \u001b[1;33m=\u001b[0m \u001b[0moutline_color\u001b[0m\u001b[1;33m\u001b[0m\u001b[1;33m\u001b[0m\u001b[0m\n\u001b[1;32m--> 229\u001b[1;33m     \u001b[0mmarked\u001b[0m\u001b[1;33m[\u001b[0m\u001b[0mboundaries\u001b[0m\u001b[1;33m]\u001b[0m \u001b[1;33m=\u001b[0m \u001b[0mcolor\u001b[0m\u001b[1;33m\u001b[0m\u001b[1;33m\u001b[0m\u001b[0m\n\u001b[0m\u001b[0;32m    230\u001b[0m     \u001b[1;32mreturn\u001b[0m \u001b[0mmarked\u001b[0m\u001b[1;33m\u001b[0m\u001b[1;33m\u001b[0m\u001b[0m\n",
      "\u001b[1;31mValueError\u001b[0m: shape mismatch: value array of shape (3,) could not be broadcast to indexing result of shape (629,1)"
     ]
    }
   ],
   "source": [
    "# dataset = Planetoid(root = '../data/cora', name='Cora')\n",
    "# dataset = MNISTSuperpixels(root = '../data/mnist')\n",
    "\n",
    "labels = dataset.targets.numpy()\n",
    "\n",
    "x, edge_index = get_graph_from_image(first_image)\n",
    "\n",
    "x = torch.tensor(x, dtype=torch.float)\n",
    "edge_index = torch.tensor(edges, dtype=torch.long)\n",
    "\n",
    "print(edge_index.shape)\n",
    "print(x.shape)\n",
    "\n",
    "data = Data(x=x, edge_index=edge_index)\n",
    "print(data.num_nodes)\n",
    "print(data)\n",
    "\n",
    "\n",
    "G = to_networkx(data, node_attrs=['x'])\n",
    "nx.draw(G, cmap=plt.get_cmap('Set1'), node_size=75, linewidths=6)\n",
    "plt.show()\n"
   ]
  },
  {
   "cell_type": "code",
   "execution_count": 5,
   "metadata": {},
   "outputs": [],
   "source": [
    "# print(\"Processing images into graphs...\", end=\"\")\n",
    "# ptime = time.time()\n",
    "# with multiprocessing.Pool() as p:\n",
    "#     graphs = np.array(p.map(util.get_graph_from_image, imgs))\n",
    "# del imgs\n",
    "# ptime = time.time() - ptime\n",
    "# print(\" Took {ptime}s\".format(ptime=ptime))\n",
    "\n"
   ]
  },
  {
   "cell_type": "code",
   "execution_count": 6,
   "metadata": {},
   "outputs": [],
   "source": [
    "# print(len(dataset))\n",
    "# print(dataset.num_classes)\n",
    "# print(dataset.num_node_features)\n",
    "# print(dataset.num_edge_features)\n",
    "# print(dataset[0])\n",
    "# print(dataset[0].is_directed())\n",
    "# print(dataset[0]['x'])\n",
    "# print(dataset[0]['train_mask'])"
   ]
  }
 ],
 "metadata": {
  "kernelspec": {
   "display_name": "Python 3",
   "language": "python",
   "name": "python3"
  },
  "language_info": {
   "codemirror_mode": {
    "name": "ipython",
    "version": 3
   },
   "file_extension": ".py",
   "mimetype": "text/x-python",
   "name": "python",
   "nbconvert_exporter": "python",
   "pygments_lexer": "ipython3",
   "version": "3.7.7"
  }
 },
 "nbformat": 4,
 "nbformat_minor": 1
}
